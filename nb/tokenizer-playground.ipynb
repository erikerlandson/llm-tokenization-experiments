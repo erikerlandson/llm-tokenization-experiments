{
 "cells": [
  {
   "cell_type": "code",
   "execution_count": 1,
   "id": "eb9e0516",
   "metadata": {},
   "outputs": [],
   "source": [
    "# pip install transformers accelerate pandas matplotlib scikit-learn numpy bitsandbytes intell-extension-for-pytorch"
   ]
  },
  {
   "cell_type": "code",
   "execution_count": 2,
   "id": "29f6e06f",
   "metadata": {},
   "outputs": [],
   "source": [
    "import torch, time\n",
    "import pandas as pd\n",
    "import matplotlib.pyplot as plt\n",
    "import numpy as np\n",
    "from sklearn import manifold\n",
    "from transformers import AutoModelForCausalLM, AutoTokenizer\n",
    "import torch.nn as nn"
   ]
  },
  {
   "cell_type": "code",
   "execution_count": 3,
   "id": "83957021",
   "metadata": {},
   "outputs": [],
   "source": [
    "model_path = \"ibm-granite/granite-3b-code-base\"\n",
    "device = \"cpu\""
   ]
  },
  {
   "cell_type": "markdown",
   "id": "b3727617-11f2-4a55-b153-58077b0b5d06",
   "metadata": {},
   "source": [
    "### load a tokenizer associated with an LLM"
   ]
  },
  {
   "cell_type": "code",
   "execution_count": 4,
   "id": "15bbac40",
   "metadata": {},
   "outputs": [],
   "source": [
    "tokenizer = AutoTokenizer.from_pretrained(model_path)"
   ]
  },
  {
   "cell_type": "markdown",
   "id": "fc644e51-085c-4929-9dcf-51b06a96b6d4",
   "metadata": {},
   "source": [
    "### tokenize some text"
   ]
  },
  {
   "cell_type": "code",
   "execution_count": 5,
   "id": "88a89a8d",
   "metadata": {},
   "outputs": [
    {
     "data": {
      "text/plain": [
       "['the',\n",
       " 'Ġquick',\n",
       " 'Ġbrown',\n",
       " 'Ġf',\n",
       " 'ox',\n",
       " 'Ġjump',\n",
       " 'ed',\n",
       " 'Ġover',\n",
       " 'Ġthe',\n",
       " 'Ġlazy',\n",
       " 'Ġdog',\n",
       " '.']"
      ]
     },
     "execution_count": 5,
     "metadata": {},
     "output_type": "execute_result"
    }
   ],
   "source": [
    "tokenizer.tokenize(\"the quick brown fox jumped over the lazy dog.\")"
   ]
  },
  {
   "cell_type": "code",
   "execution_count": 6,
   "id": "1ecedc97",
   "metadata": {},
   "outputs": [
    {
     "data": {
      "text/plain": [
       "['Ċ',\n",
       " 'def',\n",
       " 'Ġadd',\n",
       " '(',\n",
       " 'x',\n",
       " ',',\n",
       " 'Ġy',\n",
       " '):',\n",
       " 'ĊĠĠĠ',\n",
       " 'Ġreturn',\n",
       " 'Ġx',\n",
       " 'Ġ+',\n",
       " 'Ġy',\n",
       " 'ĊĠĠĠĠĠĠĠĠĠĠĠĠĠĠĠĠĠĠĠ']"
      ]
     },
     "execution_count": 6,
     "metadata": {},
     "output_type": "execute_result"
    }
   ],
   "source": [
    "tokenizer.tokenize(\"\"\"\n",
    "def add(x, y):\n",
    "    return x + y\n",
    "                   \"\"\")"
   ]
  },
  {
   "cell_type": "code",
   "execution_count": 7,
   "id": "7d358553",
   "metadata": {},
   "outputs": [
    {
     "data": {
      "text/plain": [
       "['can',\n",
       " 'Ġyou',\n",
       " 'Ġhelp',\n",
       " 'Ġme',\n",
       " 'Ġcreate',\n",
       " 'Ġa',\n",
       " 'Ġnew',\n",
       " 'Ġcar',\n",
       " 'Ġins',\n",
       " 'urance',\n",
       " 'Ġpolicy',\n",
       " 'Ġquote',\n",
       " 'Ġfor',\n",
       " 'ĠR',\n",
       " 'og',\n",
       " 'er',\n",
       " '?']"
      ]
     },
     "execution_count": 7,
     "metadata": {},
     "output_type": "execute_result"
    }
   ],
   "source": [
    "tokenizer.tokenize(\"can you help me create a new car insurance policy quote for Roger?\")"
   ]
  },
  {
   "cell_type": "code",
   "execution_count": 8,
   "id": "69c61134",
   "metadata": {},
   "outputs": [
    {
     "data": {
      "text/plain": [
       "['what',\n",
       " 'Ġis',\n",
       " 'Ġdate',\n",
       " 'Ġof',\n",
       " 'Ġpatient',\n",
       " \"'s\",\n",
       " 'Ġsal',\n",
       " 'mon',\n",
       " 'ella',\n",
       " 'Ġdi',\n",
       " 'agnosis']"
      ]
     },
     "execution_count": 8,
     "metadata": {},
     "output_type": "execute_result"
    }
   ],
   "source": [
    "tokenizer.tokenize(\"what is date of patient's salmonella diagnosis\")"
   ]
  },
  {
   "cell_type": "markdown",
   "id": "9a5f0be2-927d-4d85-8ff4-8e68ffe681a2",
   "metadata": {},
   "source": [
    "### load a model"
   ]
  },
  {
   "cell_type": "code",
   "execution_count": 9,
   "id": "703c1430-8a25-4dd2-bb05-7f52fe725bf1",
   "metadata": {},
   "outputs": [
    {
     "data": {
      "application/vnd.jupyter.widget-view+json": {
       "model_id": "2627f44667d5412f824b7032b7883c97",
       "version_major": 2,
       "version_minor": 0
      },
      "text/plain": [
       "Loading checkpoint shards:   0%|          | 0/2 [00:00<?, ?it/s]"
      ]
     },
     "metadata": {},
     "output_type": "display_data"
    },
    {
     "data": {
      "text/plain": [
       "LlamaForCausalLM(\n",
       "  (model): LlamaModel(\n",
       "    (embed_tokens): Embedding(49152, 2560, padding_idx=0)\n",
       "    (layers): ModuleList(\n",
       "      (0-31): 32 x LlamaDecoderLayer(\n",
       "        (self_attn): LlamaAttention(\n",
       "          (q_proj): Linear(in_features=2560, out_features=2560, bias=True)\n",
       "          (k_proj): Linear(in_features=2560, out_features=2560, bias=True)\n",
       "          (v_proj): Linear(in_features=2560, out_features=2560, bias=True)\n",
       "          (o_proj): Linear(in_features=2560, out_features=2560, bias=True)\n",
       "        )\n",
       "        (mlp): LlamaMLP(\n",
       "          (gate_proj): Linear(in_features=2560, out_features=10240, bias=True)\n",
       "          (up_proj): Linear(in_features=2560, out_features=10240, bias=True)\n",
       "          (down_proj): Linear(in_features=10240, out_features=2560, bias=True)\n",
       "          (act_fn): SiLU()\n",
       "        )\n",
       "        (input_layernorm): LlamaRMSNorm((2560,), eps=1e-05)\n",
       "        (post_attention_layernorm): LlamaRMSNorm((2560,), eps=1e-05)\n",
       "      )\n",
       "    )\n",
       "    (norm): LlamaRMSNorm((2560,), eps=1e-05)\n",
       "    (rotary_emb): LlamaRotaryEmbedding()\n",
       "  )\n",
       "  (lm_head): Linear(in_features=2560, out_features=49152, bias=False)\n",
       ")"
      ]
     },
     "execution_count": 9,
     "metadata": {},
     "output_type": "execute_result"
    }
   ],
   "source": [
    "# device \"meta\" does not load weights\n",
    "model = AutoModelForCausalLM.from_pretrained(\n",
    "    model_path,\n",
    "    device_map=\"cuda:0\",\n",
    "    )\n",
    "model.eval()"
   ]
  },
  {
   "cell_type": "markdown",
   "id": "747c73f8-a750-4937-85e9-3a68fba81276",
   "metadata": {},
   "source": [
    "### extract the embedder from a model"
   ]
  },
  {
   "cell_type": "code",
   "execution_count": 10,
   "id": "f4666753",
   "metadata": {},
   "outputs": [],
   "source": [
    "t = list(model.children())"
   ]
  },
  {
   "cell_type": "code",
   "execution_count": 11,
   "id": "7e36d80b",
   "metadata": {},
   "outputs": [],
   "source": [
    "embed = t[0].embed_tokens"
   ]
  },
  {
   "cell_type": "code",
   "execution_count": 12,
   "id": "c055284a",
   "metadata": {},
   "outputs": [
    {
     "data": {
      "text/plain": [
       "torch.Size([49152, 2560])"
      ]
     },
     "execution_count": 12,
     "metadata": {},
     "output_type": "execute_result"
    }
   ],
   "source": [
    "embed.weight.shape"
   ]
  },
  {
   "cell_type": "markdown",
   "id": "328d71e9-f88f-47e4-a54f-6b50b67c332e",
   "metadata": {},
   "source": [
    "### tokenize the words in the vocabulary and get min and max value over all tokenized dimensions"
   ]
  },
  {
   "cell_type": "code",
   "execution_count": 13,
   "id": "65a05f45",
   "metadata": {},
   "outputs": [
    {
     "data": {
      "text/plain": [
       "(tensor(0.8750, device='cuda:0', grad_fn=<MaxBackward1>),\n",
       " tensor(-0.3008, device='cuda:0', grad_fn=<MinBackward1>))"
      ]
     },
     "execution_count": 13,
     "metadata": {},
     "output_type": "execute_result"
    }
   ],
   "source": [
    "x = embed(torch.LongTensor(range(49152)).to(\"cuda:0\"))\n",
    "(x.max(), x.min())"
   ]
  },
  {
   "cell_type": "code",
   "execution_count": null,
   "id": "d222ded8",
   "metadata": {},
   "outputs": [],
   "source": []
  }
 ],
 "metadata": {
  "kernelspec": {
   "display_name": "Python 3.11",
   "language": "python",
   "name": "python3"
  },
  "language_info": {
   "codemirror_mode": {
    "name": "ipython",
    "version": 3
   },
   "file_extension": ".py",
   "mimetype": "text/x-python",
   "name": "python",
   "nbconvert_exporter": "python",
   "pygments_lexer": "ipython3",
   "version": "3.11.9"
  }
 },
 "nbformat": 4,
 "nbformat_minor": 5
}

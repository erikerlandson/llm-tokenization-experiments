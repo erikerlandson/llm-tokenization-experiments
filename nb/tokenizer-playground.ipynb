{
 "cells": [
  {
   "cell_type": "code",
   "execution_count": 1,
   "id": "eb9e0516",
   "metadata": {},
   "outputs": [
    {
     "name": "stdout",
     "output_type": "stream",
     "text": [
      "Requirement already satisfied: transformers in /home/eje/git/llm-tokenization-experiments/.venv/lib64/python3.13/site-packages (4.55.2)\n",
      "Requirement already satisfied: accelerate in /home/eje/git/llm-tokenization-experiments/.venv/lib64/python3.13/site-packages (1.10.0)\n",
      "Requirement already satisfied: pandas in /home/eje/git/llm-tokenization-experiments/.venv/lib64/python3.13/site-packages (2.3.1)\n",
      "Requirement already satisfied: matplotlib in /home/eje/git/llm-tokenization-experiments/.venv/lib64/python3.13/site-packages (3.10.5)\n",
      "Requirement already satisfied: scikit-learn in /home/eje/git/llm-tokenization-experiments/.venv/lib64/python3.13/site-packages (1.7.1)\n",
      "Requirement already satisfied: numpy in /home/eje/git/llm-tokenization-experiments/.venv/lib64/python3.13/site-packages (2.3.2)\n",
      "Requirement already satisfied: ipywidgets in /home/eje/git/llm-tokenization-experiments/.venv/lib64/python3.13/site-packages (8.1.7)\n",
      "Requirement already satisfied: filelock in /home/eje/git/llm-tokenization-experiments/.venv/lib64/python3.13/site-packages (from transformers) (3.19.1)\n",
      "Requirement already satisfied: huggingface-hub<1.0,>=0.34.0 in /home/eje/git/llm-tokenization-experiments/.venv/lib64/python3.13/site-packages (from transformers) (0.34.4)\n",
      "Requirement already satisfied: packaging>=20.0 in /home/eje/git/llm-tokenization-experiments/.venv/lib64/python3.13/site-packages (from transformers) (25.0)\n",
      "Requirement already satisfied: pyyaml>=5.1 in /home/eje/git/llm-tokenization-experiments/.venv/lib64/python3.13/site-packages (from transformers) (6.0.2)\n",
      "Requirement already satisfied: regex!=2019.12.17 in /home/eje/git/llm-tokenization-experiments/.venv/lib64/python3.13/site-packages (from transformers) (2025.7.34)\n",
      "Requirement already satisfied: requests in /home/eje/git/llm-tokenization-experiments/.venv/lib64/python3.13/site-packages (from transformers) (2.32.5)\n",
      "Requirement already satisfied: tokenizers<0.22,>=0.21 in /home/eje/git/llm-tokenization-experiments/.venv/lib64/python3.13/site-packages (from transformers) (0.21.4)\n",
      "Requirement already satisfied: safetensors>=0.4.3 in /home/eje/git/llm-tokenization-experiments/.venv/lib64/python3.13/site-packages (from transformers) (0.6.2)\n",
      "Requirement already satisfied: tqdm>=4.27 in /home/eje/git/llm-tokenization-experiments/.venv/lib64/python3.13/site-packages (from transformers) (4.67.1)\n",
      "Requirement already satisfied: fsspec>=2023.5.0 in /home/eje/git/llm-tokenization-experiments/.venv/lib64/python3.13/site-packages (from huggingface-hub<1.0,>=0.34.0->transformers) (2025.3.0)\n",
      "Requirement already satisfied: typing-extensions>=3.7.4.3 in /home/eje/git/llm-tokenization-experiments/.venv/lib64/python3.13/site-packages (from huggingface-hub<1.0,>=0.34.0->transformers) (4.14.1)\n",
      "Requirement already satisfied: hf-xet<2.0.0,>=1.1.3 in /home/eje/git/llm-tokenization-experiments/.venv/lib64/python3.13/site-packages (from huggingface-hub<1.0,>=0.34.0->transformers) (1.1.8)\n",
      "Requirement already satisfied: psutil in /home/eje/git/llm-tokenization-experiments/.venv/lib64/python3.13/site-packages (from accelerate) (7.0.0)\n",
      "Requirement already satisfied: torch>=2.0.0 in /home/eje/git/llm-tokenization-experiments/.venv/lib64/python3.13/site-packages (from accelerate) (2.8.0)\n",
      "Requirement already satisfied: python-dateutil>=2.8.2 in /home/eje/git/llm-tokenization-experiments/.venv/lib64/python3.13/site-packages (from pandas) (2.9.0.post0)\n",
      "Requirement already satisfied: pytz>=2020.1 in /home/eje/git/llm-tokenization-experiments/.venv/lib64/python3.13/site-packages (from pandas) (2025.2)\n",
      "Requirement already satisfied: tzdata>=2022.7 in /home/eje/git/llm-tokenization-experiments/.venv/lib64/python3.13/site-packages (from pandas) (2025.2)\n",
      "Requirement already satisfied: contourpy>=1.0.1 in /home/eje/git/llm-tokenization-experiments/.venv/lib64/python3.13/site-packages (from matplotlib) (1.3.3)\n",
      "Requirement already satisfied: cycler>=0.10 in /home/eje/git/llm-tokenization-experiments/.venv/lib64/python3.13/site-packages (from matplotlib) (0.12.1)\n",
      "Requirement already satisfied: fonttools>=4.22.0 in /home/eje/git/llm-tokenization-experiments/.venv/lib64/python3.13/site-packages (from matplotlib) (4.59.1)\n",
      "Requirement already satisfied: kiwisolver>=1.3.1 in /home/eje/git/llm-tokenization-experiments/.venv/lib64/python3.13/site-packages (from matplotlib) (1.4.9)\n",
      "Requirement already satisfied: pillow>=8 in /home/eje/git/llm-tokenization-experiments/.venv/lib64/python3.13/site-packages (from matplotlib) (11.3.0)\n",
      "Requirement already satisfied: pyparsing>=2.3.1 in /home/eje/git/llm-tokenization-experiments/.venv/lib64/python3.13/site-packages (from matplotlib) (3.2.3)\n",
      "Requirement already satisfied: scipy>=1.8.0 in /home/eje/git/llm-tokenization-experiments/.venv/lib64/python3.13/site-packages (from scikit-learn) (1.16.1)\n",
      "Requirement already satisfied: joblib>=1.2.0 in /home/eje/git/llm-tokenization-experiments/.venv/lib64/python3.13/site-packages (from scikit-learn) (1.5.1)\n",
      "Requirement already satisfied: threadpoolctl>=3.1.0 in /home/eje/git/llm-tokenization-experiments/.venv/lib64/python3.13/site-packages (from scikit-learn) (3.6.0)\n",
      "Requirement already satisfied: comm>=0.1.3 in /home/eje/git/llm-tokenization-experiments/.venv/lib64/python3.13/site-packages (from ipywidgets) (0.2.3)\n",
      "Requirement already satisfied: ipython>=6.1.0 in /home/eje/git/llm-tokenization-experiments/.venv/lib64/python3.13/site-packages (from ipywidgets) (9.4.0)\n",
      "Requirement already satisfied: traitlets>=4.3.1 in /home/eje/git/llm-tokenization-experiments/.venv/lib64/python3.13/site-packages (from ipywidgets) (5.14.3)\n",
      "Requirement already satisfied: widgetsnbextension~=4.0.14 in /home/eje/git/llm-tokenization-experiments/.venv/lib64/python3.13/site-packages (from ipywidgets) (4.0.14)\n",
      "Requirement already satisfied: jupyterlab_widgets~=3.0.15 in /home/eje/git/llm-tokenization-experiments/.venv/lib64/python3.13/site-packages (from ipywidgets) (3.0.15)\n",
      "Requirement already satisfied: decorator in /home/eje/git/llm-tokenization-experiments/.venv/lib64/python3.13/site-packages (from ipython>=6.1.0->ipywidgets) (5.2.1)\n",
      "Requirement already satisfied: ipython-pygments-lexers in /home/eje/git/llm-tokenization-experiments/.venv/lib64/python3.13/site-packages (from ipython>=6.1.0->ipywidgets) (1.1.1)\n",
      "Requirement already satisfied: jedi>=0.16 in /home/eje/git/llm-tokenization-experiments/.venv/lib64/python3.13/site-packages (from ipython>=6.1.0->ipywidgets) (0.19.2)\n",
      "Requirement already satisfied: matplotlib-inline in /home/eje/git/llm-tokenization-experiments/.venv/lib64/python3.13/site-packages (from ipython>=6.1.0->ipywidgets) (0.1.7)\n",
      "Requirement already satisfied: pexpect>4.3 in /home/eje/git/llm-tokenization-experiments/.venv/lib64/python3.13/site-packages (from ipython>=6.1.0->ipywidgets) (4.9.0)\n",
      "Requirement already satisfied: prompt_toolkit<3.1.0,>=3.0.41 in /home/eje/git/llm-tokenization-experiments/.venv/lib64/python3.13/site-packages (from ipython>=6.1.0->ipywidgets) (3.0.51)\n",
      "Requirement already satisfied: pygments>=2.4.0 in /home/eje/git/llm-tokenization-experiments/.venv/lib64/python3.13/site-packages (from ipython>=6.1.0->ipywidgets) (2.19.2)\n",
      "Requirement already satisfied: stack_data in /home/eje/git/llm-tokenization-experiments/.venv/lib64/python3.13/site-packages (from ipython>=6.1.0->ipywidgets) (0.6.3)\n",
      "Requirement already satisfied: wcwidth in /home/eje/git/llm-tokenization-experiments/.venv/lib64/python3.13/site-packages (from prompt_toolkit<3.1.0,>=3.0.41->ipython>=6.1.0->ipywidgets) (0.2.13)\n",
      "Requirement already satisfied: parso<0.9.0,>=0.8.4 in /home/eje/git/llm-tokenization-experiments/.venv/lib64/python3.13/site-packages (from jedi>=0.16->ipython>=6.1.0->ipywidgets) (0.8.4)\n",
      "Requirement already satisfied: ptyprocess>=0.5 in /home/eje/git/llm-tokenization-experiments/.venv/lib64/python3.13/site-packages (from pexpect>4.3->ipython>=6.1.0->ipywidgets) (0.7.0)\n",
      "Requirement already satisfied: six>=1.5 in /home/eje/git/llm-tokenization-experiments/.venv/lib64/python3.13/site-packages (from python-dateutil>=2.8.2->pandas) (1.17.0)\n",
      "Requirement already satisfied: setuptools in /home/eje/git/llm-tokenization-experiments/.venv/lib64/python3.13/site-packages (from torch>=2.0.0->accelerate) (80.9.0)\n",
      "Requirement already satisfied: sympy>=1.13.3 in /home/eje/git/llm-tokenization-experiments/.venv/lib64/python3.13/site-packages (from torch>=2.0.0->accelerate) (1.14.0)\n",
      "Requirement already satisfied: networkx in /home/eje/git/llm-tokenization-experiments/.venv/lib64/python3.13/site-packages (from torch>=2.0.0->accelerate) (3.5)\n",
      "Requirement already satisfied: jinja2 in /home/eje/git/llm-tokenization-experiments/.venv/lib64/python3.13/site-packages (from torch>=2.0.0->accelerate) (3.1.6)\n",
      "Requirement already satisfied: nvidia-cuda-nvrtc-cu12==12.8.93 in /home/eje/git/llm-tokenization-experiments/.venv/lib64/python3.13/site-packages (from torch>=2.0.0->accelerate) (12.8.93)\n",
      "Requirement already satisfied: nvidia-cuda-runtime-cu12==12.8.90 in /home/eje/git/llm-tokenization-experiments/.venv/lib64/python3.13/site-packages (from torch>=2.0.0->accelerate) (12.8.90)\n",
      "Requirement already satisfied: nvidia-cuda-cupti-cu12==12.8.90 in /home/eje/git/llm-tokenization-experiments/.venv/lib64/python3.13/site-packages (from torch>=2.0.0->accelerate) (12.8.90)\n",
      "Requirement already satisfied: nvidia-cudnn-cu12==9.10.2.21 in /home/eje/git/llm-tokenization-experiments/.venv/lib64/python3.13/site-packages (from torch>=2.0.0->accelerate) (9.10.2.21)\n",
      "Requirement already satisfied: nvidia-cublas-cu12==12.8.4.1 in /home/eje/git/llm-tokenization-experiments/.venv/lib64/python3.13/site-packages (from torch>=2.0.0->accelerate) (12.8.4.1)\n",
      "Requirement already satisfied: nvidia-cufft-cu12==11.3.3.83 in /home/eje/git/llm-tokenization-experiments/.venv/lib64/python3.13/site-packages (from torch>=2.0.0->accelerate) (11.3.3.83)\n",
      "Requirement already satisfied: nvidia-curand-cu12==10.3.9.90 in /home/eje/git/llm-tokenization-experiments/.venv/lib64/python3.13/site-packages (from torch>=2.0.0->accelerate) (10.3.9.90)\n",
      "Requirement already satisfied: nvidia-cusolver-cu12==11.7.3.90 in /home/eje/git/llm-tokenization-experiments/.venv/lib64/python3.13/site-packages (from torch>=2.0.0->accelerate) (11.7.3.90)\n",
      "Requirement already satisfied: nvidia-cusparse-cu12==12.5.8.93 in /home/eje/git/llm-tokenization-experiments/.venv/lib64/python3.13/site-packages (from torch>=2.0.0->accelerate) (12.5.8.93)\n",
      "Requirement already satisfied: nvidia-cusparselt-cu12==0.7.1 in /home/eje/git/llm-tokenization-experiments/.venv/lib64/python3.13/site-packages (from torch>=2.0.0->accelerate) (0.7.1)\n",
      "Requirement already satisfied: nvidia-nccl-cu12==2.27.3 in /home/eje/git/llm-tokenization-experiments/.venv/lib64/python3.13/site-packages (from torch>=2.0.0->accelerate) (2.27.3)\n",
      "Requirement already satisfied: nvidia-nvtx-cu12==12.8.90 in /home/eje/git/llm-tokenization-experiments/.venv/lib64/python3.13/site-packages (from torch>=2.0.0->accelerate) (12.8.90)\n",
      "Requirement already satisfied: nvidia-nvjitlink-cu12==12.8.93 in /home/eje/git/llm-tokenization-experiments/.venv/lib64/python3.13/site-packages (from torch>=2.0.0->accelerate) (12.8.93)\n",
      "Requirement already satisfied: nvidia-cufile-cu12==1.13.1.3 in /home/eje/git/llm-tokenization-experiments/.venv/lib64/python3.13/site-packages (from torch>=2.0.0->accelerate) (1.13.1.3)\n",
      "Requirement already satisfied: triton==3.4.0 in /home/eje/git/llm-tokenization-experiments/.venv/lib64/python3.13/site-packages (from torch>=2.0.0->accelerate) (3.4.0)\n",
      "Requirement already satisfied: mpmath<1.4,>=1.1.0 in /home/eje/git/llm-tokenization-experiments/.venv/lib64/python3.13/site-packages (from sympy>=1.13.3->torch>=2.0.0->accelerate) (1.3.0)\n",
      "Requirement already satisfied: MarkupSafe>=2.0 in /home/eje/git/llm-tokenization-experiments/.venv/lib64/python3.13/site-packages (from jinja2->torch>=2.0.0->accelerate) (3.0.2)\n",
      "Requirement already satisfied: charset_normalizer<4,>=2 in /home/eje/git/llm-tokenization-experiments/.venv/lib64/python3.13/site-packages (from requests->transformers) (3.4.3)\n",
      "Requirement already satisfied: idna<4,>=2.5 in /home/eje/git/llm-tokenization-experiments/.venv/lib64/python3.13/site-packages (from requests->transformers) (3.10)\n",
      "Requirement already satisfied: urllib3<3,>=1.21.1 in /home/eje/git/llm-tokenization-experiments/.venv/lib64/python3.13/site-packages (from requests->transformers) (2.5.0)\n",
      "Requirement already satisfied: certifi>=2017.4.17 in /home/eje/git/llm-tokenization-experiments/.venv/lib64/python3.13/site-packages (from requests->transformers) (2025.8.3)\n",
      "Requirement already satisfied: executing>=1.2.0 in /home/eje/git/llm-tokenization-experiments/.venv/lib64/python3.13/site-packages (from stack_data->ipython>=6.1.0->ipywidgets) (2.2.0)\n",
      "Requirement already satisfied: asttokens>=2.1.0 in /home/eje/git/llm-tokenization-experiments/.venv/lib64/python3.13/site-packages (from stack_data->ipython>=6.1.0->ipywidgets) (3.0.0)\n",
      "Requirement already satisfied: pure-eval in /home/eje/git/llm-tokenization-experiments/.venv/lib64/python3.13/site-packages (from stack_data->ipython>=6.1.0->ipywidgets) (0.2.3)\n",
      "Note: you may need to restart the kernel to use updated packages.\n"
     ]
    }
   ],
   "source": [
    "pip install transformers accelerate pandas matplotlib scikit-learn numpy ipywidgets"
   ]
  },
  {
   "cell_type": "code",
   "execution_count": 2,
   "id": "29f6e06f",
   "metadata": {},
   "outputs": [],
   "source": [
    "import torch, time\n",
    "import pandas as pd\n",
    "import matplotlib.pyplot as plt\n",
    "import numpy as np\n",
    "from sklearn import manifold\n",
    "from transformers import AutoModelForCausalLM, AutoTokenizer\n",
    "import torch.nn as nn"
   ]
  },
  {
   "cell_type": "code",
   "execution_count": 3,
   "id": "83957021",
   "metadata": {},
   "outputs": [],
   "source": [
    "model_path = \"ibm-granite/granite-3b-code-base\"\n",
    "device = \"cuda:0\""
   ]
  },
  {
   "cell_type": "markdown",
   "id": "b3727617-11f2-4a55-b153-58077b0b5d06",
   "metadata": {},
   "source": [
    "### load a tokenizer associated with an LLM"
   ]
  },
  {
   "cell_type": "code",
   "execution_count": 4,
   "id": "15bbac40",
   "metadata": {},
   "outputs": [],
   "source": [
    "tokenizer = AutoTokenizer.from_pretrained(model_path)"
   ]
  },
  {
   "cell_type": "markdown",
   "id": "fc644e51-085c-4929-9dcf-51b06a96b6d4",
   "metadata": {},
   "source": [
    "### tokenize some text"
   ]
  },
  {
   "cell_type": "code",
   "execution_count": 5,
   "id": "88a89a8d",
   "metadata": {},
   "outputs": [
    {
     "data": {
      "text/plain": [
       "['the',\n",
       " 'Ġquick',\n",
       " 'Ġbrown',\n",
       " 'Ġf',\n",
       " 'ox',\n",
       " 'Ġjump',\n",
       " 'ed',\n",
       " 'Ġover',\n",
       " 'Ġthe',\n",
       " 'Ġlazy',\n",
       " 'Ġdog',\n",
       " '.']"
      ]
     },
     "execution_count": 5,
     "metadata": {},
     "output_type": "execute_result"
    }
   ],
   "source": [
    "tokenizer.tokenize(\"the quick brown fox jumped over the lazy dog.\")"
   ]
  },
  {
   "cell_type": "code",
   "execution_count": 6,
   "id": "1ecedc97",
   "metadata": {},
   "outputs": [
    {
     "data": {
      "text/plain": [
       "['Ċ',\n",
       " 'def',\n",
       " 'Ġadd',\n",
       " '(',\n",
       " 'x',\n",
       " ',',\n",
       " 'Ġy',\n",
       " '):',\n",
       " 'ĊĠĠĠ',\n",
       " 'Ġreturn',\n",
       " 'Ġx',\n",
       " 'Ġ+',\n",
       " 'Ġy',\n",
       " 'ĊĠĠĠĠĠĠĠĠĠĠĠĠĠĠĠĠĠĠĠ']"
      ]
     },
     "execution_count": 6,
     "metadata": {},
     "output_type": "execute_result"
    }
   ],
   "source": [
    "tokenizer.tokenize(\"\"\"\n",
    "def add(x, y):\n",
    "    return x + y\n",
    "                   \"\"\")"
   ]
  },
  {
   "cell_type": "code",
   "execution_count": 7,
   "id": "7d358553",
   "metadata": {},
   "outputs": [
    {
     "data": {
      "text/plain": [
       "['can',\n",
       " 'Ġyou',\n",
       " 'Ġhelp',\n",
       " 'Ġme',\n",
       " 'Ġcreate',\n",
       " 'Ġa',\n",
       " 'Ġnew',\n",
       " 'Ġcar',\n",
       " 'Ġins',\n",
       " 'urance',\n",
       " 'Ġpolicy',\n",
       " 'Ġquote',\n",
       " 'Ġfor',\n",
       " 'ĠR',\n",
       " 'og',\n",
       " 'er',\n",
       " '?']"
      ]
     },
     "execution_count": 7,
     "metadata": {},
     "output_type": "execute_result"
    }
   ],
   "source": [
    "tokenizer.tokenize(\"can you help me create a new car insurance policy quote for Roger?\")"
   ]
  },
  {
   "cell_type": "code",
   "execution_count": 8,
   "id": "69c61134",
   "metadata": {},
   "outputs": [
    {
     "data": {
      "text/plain": [
       "['what',\n",
       " 'Ġis',\n",
       " 'Ġdate',\n",
       " 'Ġof',\n",
       " 'Ġpatient',\n",
       " \"'s\",\n",
       " 'Ġsal',\n",
       " 'mon',\n",
       " 'ella',\n",
       " 'Ġdi',\n",
       " 'agnosis']"
      ]
     },
     "execution_count": 8,
     "metadata": {},
     "output_type": "execute_result"
    }
   ],
   "source": [
    "tokenizer.tokenize(\"what is date of patient's salmonella diagnosis\")"
   ]
  },
  {
   "cell_type": "markdown",
   "id": "9a5f0be2-927d-4d85-8ff4-8e68ffe681a2",
   "metadata": {},
   "source": [
    "### load a model"
   ]
  },
  {
   "cell_type": "code",
   "execution_count": 9,
   "id": "703c1430-8a25-4dd2-bb05-7f52fe725bf1",
   "metadata": {},
   "outputs": [
    {
     "name": "stderr",
     "output_type": "stream",
     "text": [
      "Loading checkpoint shards: 100%|██████████| 2/2 [00:00<00:00,  2.03it/s]\n"
     ]
    },
    {
     "data": {
      "text/plain": [
       "LlamaForCausalLM(\n",
       "  (model): LlamaModel(\n",
       "    (embed_tokens): Embedding(49152, 2560, padding_idx=0)\n",
       "    (layers): ModuleList(\n",
       "      (0-31): 32 x LlamaDecoderLayer(\n",
       "        (self_attn): LlamaAttention(\n",
       "          (q_proj): Linear(in_features=2560, out_features=2560, bias=True)\n",
       "          (k_proj): Linear(in_features=2560, out_features=2560, bias=True)\n",
       "          (v_proj): Linear(in_features=2560, out_features=2560, bias=True)\n",
       "          (o_proj): Linear(in_features=2560, out_features=2560, bias=True)\n",
       "        )\n",
       "        (mlp): LlamaMLP(\n",
       "          (gate_proj): Linear(in_features=2560, out_features=10240, bias=True)\n",
       "          (up_proj): Linear(in_features=2560, out_features=10240, bias=True)\n",
       "          (down_proj): Linear(in_features=10240, out_features=2560, bias=True)\n",
       "          (act_fn): SiLU()\n",
       "        )\n",
       "        (input_layernorm): LlamaRMSNorm((2560,), eps=1e-05)\n",
       "        (post_attention_layernorm): LlamaRMSNorm((2560,), eps=1e-05)\n",
       "      )\n",
       "    )\n",
       "    (norm): LlamaRMSNorm((2560,), eps=1e-05)\n",
       "    (rotary_emb): LlamaRotaryEmbedding()\n",
       "  )\n",
       "  (lm_head): Linear(in_features=2560, out_features=49152, bias=False)\n",
       ")"
      ]
     },
     "execution_count": 9,
     "metadata": {},
     "output_type": "execute_result"
    }
   ],
   "source": [
    "# device \"meta\" does not load weights\n",
    "model = AutoModelForCausalLM.from_pretrained(\n",
    "    model_path,\n",
    "    device_map=\"cuda:0\",\n",
    "    )\n",
    "model.eval()"
   ]
  },
  {
   "cell_type": "markdown",
   "id": "747c73f8-a750-4937-85e9-3a68fba81276",
   "metadata": {},
   "source": [
    "### extract the embedder from a model"
   ]
  },
  {
   "cell_type": "code",
   "execution_count": 10,
   "id": "c055284a",
   "metadata": {},
   "outputs": [
    {
     "data": {
      "text/plain": [
       "(49152, 2560)"
      ]
     },
     "execution_count": 10,
     "metadata": {},
     "output_type": "execute_result"
    }
   ],
   "source": [
    "t = list(model.children())\n",
    "embed = t[0].embed_tokens\n",
    "eshape = embed.weight.shape\n",
    "(eshape[0], eshape[1])"
   ]
  },
  {
   "cell_type": "markdown",
   "id": "328d71e9-f88f-47e4-a54f-6b50b67c332e",
   "metadata": {},
   "source": [
    "### tokenize the words in the vocabulary and get min and max value over all tokenized dimensions"
   ]
  },
  {
   "cell_type": "code",
   "execution_count": 11,
   "id": "65a05f45",
   "metadata": {},
   "outputs": [
    {
     "data": {
      "text/plain": [
       "(tensor(-0.3008, device='cuda:0', grad_fn=<MinBackward1>),\n",
       " tensor(0.8750, device='cuda:0', grad_fn=<MaxBackward1>))"
      ]
     },
     "execution_count": 11,
     "metadata": {},
     "output_type": "execute_result"
    }
   ],
   "source": [
    "vocabsize = eshape[0]\n",
    "x = embed(torch.LongTensor(range(vocabsize)).to(\"cuda:0\"))\n",
    "(x.min(), x.max())"
   ]
  },
  {
   "cell_type": "code",
   "execution_count": null,
   "id": "d222ded8",
   "metadata": {},
   "outputs": [],
   "source": []
  }
 ],
 "metadata": {
  "kernelspec": {
   "display_name": ".venv",
   "language": "python",
   "name": "python3"
  },
  "language_info": {
   "codemirror_mode": {
    "name": "ipython",
    "version": 3
   },
   "file_extension": ".py",
   "mimetype": "text/x-python",
   "name": "python",
   "nbconvert_exporter": "python",
   "pygments_lexer": "ipython3",
   "version": "3.13.7"
  }
 },
 "nbformat": 4,
 "nbformat_minor": 5
}

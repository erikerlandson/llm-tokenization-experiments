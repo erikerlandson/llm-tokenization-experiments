{
 "cells": [
  {
   "cell_type": "code",
   "execution_count": 2,
   "id": "eb9e0516",
   "metadata": {},
   "outputs": [],
   "source": [
    "# pip install transformers accelerate pandas matplotlib scikit-learn numpy bitsandbytes intell-extension-for-pytorch"
   ]
  },
  {
   "cell_type": "code",
   "execution_count": 3,
   "id": "29f6e06f",
   "metadata": {},
   "outputs": [],
   "source": [
    "import torch, time\n",
    "import pandas as pd\n",
    "import matplotlib.pyplot as plt\n",
    "import numpy as np\n",
    "from sklearn import manifold\n",
    "from transformers import AutoModelForCausalLM, AutoTokenizer, BitsAndBytesConfig\n",
    "import torch.nn as nn"
   ]
  },
  {
   "cell_type": "code",
   "execution_count": 4,
   "id": "83957021",
   "metadata": {},
   "outputs": [],
   "source": [
    "model_path = \"ibm-granite/granite-3b-code-base\"\n",
    "device = \"cpu\""
   ]
  },
  {
   "cell_type": "code",
   "execution_count": 5,
   "id": "15bbac40",
   "metadata": {},
   "outputs": [],
   "source": [
    "tokenizer = AutoTokenizer.from_pretrained(model_path)"
   ]
  },
  {
   "cell_type": "code",
   "execution_count": 6,
   "id": "88a89a8d",
   "metadata": {},
   "outputs": [
    {
     "data": {
      "text/plain": [
       "['the',\n",
       " 'Ġquick',\n",
       " 'Ġbrown',\n",
       " 'Ġf',\n",
       " 'ox',\n",
       " 'Ġjump',\n",
       " 'ed',\n",
       " 'Ġover',\n",
       " 'Ġthe',\n",
       " 'Ġlazy',\n",
       " 'Ġdog',\n",
       " '.']"
      ]
     },
     "execution_count": 6,
     "metadata": {},
     "output_type": "execute_result"
    }
   ],
   "source": [
    "tokenizer.tokenize(\"the quick brown fox jumped over the lazy dog.\")"
   ]
  },
  {
   "cell_type": "code",
   "execution_count": 7,
   "id": "1ecedc97",
   "metadata": {},
   "outputs": [
    {
     "data": {
      "text/plain": [
       "['Ċ',\n",
       " 'def',\n",
       " 'Ġadd',\n",
       " '(',\n",
       " 'x',\n",
       " ',',\n",
       " 'Ġy',\n",
       " '):',\n",
       " 'ĊĠĠĠ',\n",
       " 'Ġreturn',\n",
       " 'Ġx',\n",
       " 'Ġ+',\n",
       " 'Ġy',\n",
       " 'ĊĠĠĠĠĠĠĠĠĠĠĠĠĠĠĠĠĠĠĠ']"
      ]
     },
     "execution_count": 7,
     "metadata": {},
     "output_type": "execute_result"
    }
   ],
   "source": [
    "tokenizer.tokenize(\"\"\"\n",
    "def add(x, y):\n",
    "    return x + y\n",
    "                   \"\"\")"
   ]
  },
  {
   "cell_type": "code",
   "execution_count": 8,
   "id": "7d358553",
   "metadata": {},
   "outputs": [
    {
     "data": {
      "text/plain": [
       "['can',\n",
       " 'Ġyou',\n",
       " 'Ġhelp',\n",
       " 'Ġme',\n",
       " 'Ġcreate',\n",
       " 'Ġa',\n",
       " 'Ġnew',\n",
       " 'Ġcar',\n",
       " 'Ġins',\n",
       " 'urance',\n",
       " 'Ġpolicy',\n",
       " 'Ġquote',\n",
       " 'Ġfor',\n",
       " 'ĠR',\n",
       " 'og',\n",
       " 'er',\n",
       " '?']"
      ]
     },
     "execution_count": 8,
     "metadata": {},
     "output_type": "execute_result"
    }
   ],
   "source": [
    "tokenizer.tokenize(\"can you help me create a new car insurance policy quote for Roger?\")"
   ]
  },
  {
   "cell_type": "code",
   "execution_count": 9,
   "id": "69c61134",
   "metadata": {},
   "outputs": [
    {
     "data": {
      "text/plain": [
       "['what',\n",
       " 'Ġis',\n",
       " 'Ġdate',\n",
       " 'Ġof',\n",
       " 'Ġpatient',\n",
       " \"'s\",\n",
       " 'Ġsal',\n",
       " 'mon',\n",
       " 'ella',\n",
       " 'Ġdi',\n",
       " 'agnosis']"
      ]
     },
     "execution_count": 9,
     "metadata": {},
     "output_type": "execute_result"
    }
   ],
   "source": [
    "tokenizer.tokenize(\"what is date of patient's salmonella diagnosis\")"
   ]
  },
  {
   "cell_type": "code",
   "execution_count": 10,
   "id": "41063c9f",
   "metadata": {},
   "outputs": [
    {
     "name": "stderr",
     "output_type": "stream",
     "text": [
      "[W514 13:17:39.018733266 OperatorEntry.cpp:154] Warning: Warning only once for all operators,  other operators may also be overridden.\n",
      "  Overriding a previously registered kernel for the same operator and the same dispatch key\n",
      "  operator: aten::_addmm_activation(Tensor self, Tensor mat1, Tensor mat2, *, Scalar beta=1, Scalar alpha=1, bool use_gelu=False) -> Tensor\n",
      "    registered at /pytorch/build/aten/src/ATen/RegisterSchema.cpp:6\n",
      "  dispatch key: AutocastCPU\n",
      "  previous kernel: registered at /pytorch/aten/src/ATen/autocast_mode.cpp:327\n",
      "       new kernel: registered at /opt/workspace/ipex-cpu-dev/csrc/cpu/autocast/autocast_mode.cpp:112 (function operator())\n"
     ]
    },
    {
     "data": {
      "application/vnd.jupyter.widget-view+json": {
       "model_id": "635fe9a22ecf4a3dad6cf8695a988e22",
       "version_major": 2,
       "version_minor": 0
      },
      "text/plain": [
       "Loading checkpoint shards:   0%|          | 0/2 [00:00<?, ?it/s]"
      ]
     },
     "metadata": {},
     "output_type": "display_data"
    },
    {
     "name": "stderr",
     "output_type": "stream",
     "text": [
      "/home/eje/git/llm-tokenization-experiments/.venv/lib64/python3.13/site-packages/bitsandbytes/nn/modules.py:657: FutureWarning: This function is deprecated. Please use `int8_double_quant` instead.\n",
      "  CB, CBt, SCB, SCBt, coo_tensorB = bnb.functional.double_quant(B)\n",
      "/home/eje/git/llm-tokenization-experiments/.venv/lib64/python3.13/site-packages/bitsandbytes/nn/modules.py:657: FutureWarning: This function is deprecated. Please use `int8_double_quant` instead.\n",
      "  CB, CBt, SCB, SCBt, coo_tensorB = bnb.functional.double_quant(B)\n"
     ]
    },
    {
     "data": {
      "text/plain": [
       "LlamaForCausalLM(\n",
       "  (model): LlamaModel(\n",
       "    (embed_tokens): Embedding(49152, 2560, padding_idx=0)\n",
       "    (layers): ModuleList(\n",
       "      (0-31): 32 x LlamaDecoderLayer(\n",
       "        (self_attn): LlamaAttention(\n",
       "          (q_proj): Linear8bitLt(in_features=2560, out_features=2560, bias=True)\n",
       "          (k_proj): Linear8bitLt(in_features=2560, out_features=2560, bias=True)\n",
       "          (v_proj): Linear8bitLt(in_features=2560, out_features=2560, bias=True)\n",
       "          (o_proj): Linear8bitLt(in_features=2560, out_features=2560, bias=True)\n",
       "        )\n",
       "        (mlp): LlamaMLP(\n",
       "          (gate_proj): Linear8bitLt(in_features=2560, out_features=10240, bias=True)\n",
       "          (up_proj): Linear8bitLt(in_features=2560, out_features=10240, bias=True)\n",
       "          (down_proj): Linear8bitLt(in_features=10240, out_features=2560, bias=True)\n",
       "          (act_fn): SiLU()\n",
       "        )\n",
       "        (input_layernorm): LlamaRMSNorm((2560,), eps=1e-05)\n",
       "        (post_attention_layernorm): LlamaRMSNorm((2560,), eps=1e-05)\n",
       "      )\n",
       "    )\n",
       "    (norm): LlamaRMSNorm((2560,), eps=1e-05)\n",
       "    (rotary_emb): LlamaRotaryEmbedding()\n",
       "  )\n",
       "  (lm_head): Linear(in_features=2560, out_features=49152, bias=False)\n",
       ")"
      ]
     },
     "execution_count": 10,
     "metadata": {},
     "output_type": "execute_result"
    }
   ],
   "source": [
    "# device \"meta\" does not load weights\n",
    "quant = BitsAndBytesConfig(load_in_8bit=True)\n",
    "model = AutoModelForCausalLM.from_pretrained(\n",
    "    model_path,\n",
    "    device_map=device,\n",
    "    quantization_config=quant\n",
    "    )\n",
    "model.eval()"
   ]
  },
  {
   "cell_type": "code",
   "execution_count": 11,
   "id": "404f3928",
   "metadata": {},
   "outputs": [
    {
     "data": {
      "text/plain": [
       "Sequential(\n",
       "  (0): Linear(in_features=3, out_features=3, bias=False)\n",
       "  (1): Linear(in_features=3, out_features=1, bias=False)\n",
       ")"
      ]
     },
     "execution_count": 11,
     "metadata": {},
     "output_type": "execute_result"
    }
   ],
   "source": [
    "tiny = nn.Sequential(\n",
    "    nn.Linear(3, 3, bias=False, device=\"cpu\"),\n",
    "    nn.Linear(3, 1, bias=False, device=\"cpu\"),\n",
    ")\n",
    "tiny"
   ]
  },
  {
   "cell_type": "code",
   "execution_count": 12,
   "id": "7dc24a06",
   "metadata": {},
   "outputs": [
    {
     "data": {
      "text/plain": [
       "tensor([0.0425], grad_fn=<SqueezeBackward4>)"
      ]
     },
     "execution_count": 12,
     "metadata": {},
     "output_type": "execute_result"
    }
   ],
   "source": [
    "input = torch.randn(3)\n",
    "tiny(input)"
   ]
  },
  {
   "cell_type": "code",
   "execution_count": 13,
   "id": "2fd09986",
   "metadata": {},
   "outputs": [
    {
     "data": {
      "text/plain": [
       "tensor([[ 0.0881, -0.0843, -0.0606]])"
      ]
     },
     "execution_count": 13,
     "metadata": {},
     "output_type": "execute_result"
    }
   ],
   "source": [
    "torch.autograd.functional.jacobian(tiny, input)"
   ]
  },
  {
   "cell_type": "code",
   "execution_count": 14,
   "id": "f4666753",
   "metadata": {},
   "outputs": [],
   "source": [
    "t = list(model.children())"
   ]
  },
  {
   "cell_type": "code",
   "execution_count": 15,
   "id": "7e36d80b",
   "metadata": {},
   "outputs": [],
   "source": [
    "embed = t[0].embed_tokens"
   ]
  },
  {
   "cell_type": "code",
   "execution_count": 16,
   "id": "65a05f45",
   "metadata": {},
   "outputs": [
    {
     "data": {
      "text/plain": [
       "(tensor(0.8750, dtype=torch.float16, grad_fn=<MaxBackward1>),\n",
       " tensor(-0.3008, dtype=torch.float16, grad_fn=<MinBackward1>))"
      ]
     },
     "execution_count": 16,
     "metadata": {},
     "output_type": "execute_result"
    }
   ],
   "source": [
    "x = embed(torch.LongTensor(range(49000)))\n",
    "(x.max(), x.min())"
   ]
  },
  {
   "cell_type": "code",
   "execution_count": 17,
   "id": "c055284a",
   "metadata": {},
   "outputs": [
    {
     "data": {
      "text/plain": [
       "torch.Size([49152, 2560])"
      ]
     },
     "execution_count": 17,
     "metadata": {},
     "output_type": "execute_result"
    }
   ],
   "source": [
    "embed.weight.shape"
   ]
  },
  {
   "cell_type": "code",
   "execution_count": null,
   "id": "df31b690",
   "metadata": {},
   "outputs": [],
   "source": [
    "from transformers import LlamaModel\n",
    "class WrapLM(nn.Module):\n",
    "    def __init__(self, llm: LlamaModel):\n",
    "        super().__init__()\n",
    "        self.llm = llm\n",
    "        self.layers = llm.layers\n",
    "        self.norm = llm.norm\n",
    "        self.rotary_emb = llm.rotary_emb\n",
    "\n",
    "    def forward(self, emb: torch.Tensor) -> torch.Tensor:\n",
    "        attention_mask = None\n",
    "        position_ids = None\n",
    "        past_key_values = None\n",
    "        inputs_embeds = emb\n",
    "        use_cache = False\n",
    "        output_attentions = False\n",
    "        output_hidden_states = False\n",
    "        cache_position = None\n",
    "\n",
    "        past_seen_tokens = 0\n",
    "        cache_position = torch.arange(\n",
    "            past_seen_tokens, past_seen_tokens + inputs_embeds.shape[1], device=inputs_embeds.device\n",
    "        )\n",
    "\n",
    "        position_ids = cache_position.unsqueeze(0)\n",
    "\n",
    "        causal_mask = self.llm._update_causal_mask(\n",
    "            attention_mask, inputs_embeds, cache_position, past_key_values, output_attentions\n",
    "        )\n",
    "\n",
    "        hidden_states = inputs_embeds\n",
    "        \n",
    "        position_embeddings = self.rotary_emb(hidden_states, position_ids)\n",
    "\n",
    "        for decoder_layer in self.layers[: self.config.num_hidden_layers]:\n",
    "            layer_outputs = decoder_layer(\n",
    "                hidden_states,\n",
    "                attention_mask=causal_mask,\n",
    "                position_ids=position_ids,\n",
    "                past_key_value=past_key_values,\n",
    "                output_attentions=output_attentions,\n",
    "                use_cache=use_cache,\n",
    "                cache_position=cache_position,\n",
    "                position_embeddings=position_embeddings,\n",
    "            )\n",
    "            hidden_states = layer_outputs[0]\n",
    "\n",
    "        hidden_states = self.norm(hidden_states)\n",
    "\n",
    "        return hidden_states"
   ]
  },
  {
   "cell_type": "code",
   "execution_count": 33,
   "id": "19bc15db",
   "metadata": {},
   "outputs": [],
   "source": [
    "\n",
    "wm = WrapLM(model.model)"
   ]
  },
  {
   "cell_type": "code",
   "execution_count": 34,
   "id": "ce5b9c72",
   "metadata": {},
   "outputs": [
    {
     "data": {
      "text/plain": [
       "tensor([[[-0.0151,  0.0092, -0.0164,  ..., -0.0131,  0.0002, -0.0076]]],\n",
       "       dtype=torch.float16, grad_fn=<EmbeddingBackward0>)"
      ]
     },
     "execution_count": 34,
     "metadata": {},
     "output_type": "execute_result"
    }
   ],
   "source": [
    "embed(torch.LongTensor([[1000]]))"
   ]
  },
  {
   "cell_type": "code",
   "execution_count": 35,
   "id": "f6bcef8f",
   "metadata": {},
   "outputs": [
    {
     "ename": "NameError",
     "evalue": "name 'llm' is not defined",
     "output_type": "error",
     "traceback": [
      "\u001b[31m---------------------------------------------------------------------------\u001b[39m",
      "\u001b[31mNameError\u001b[39m                                 Traceback (most recent call last)",
      "\u001b[36mCell\u001b[39m\u001b[36m \u001b[39m\u001b[32mIn[35]\u001b[39m\u001b[32m, line 2\u001b[39m\n\u001b[32m      1\u001b[39m emb = embed(torch.LongTensor([[\u001b[32m1000\u001b[39m]]))\n\u001b[32m----> \u001b[39m\u001b[32m2\u001b[39m \u001b[43mwm\u001b[49m\u001b[43m.\u001b[49m\u001b[43mforward\u001b[49m\u001b[43m(\u001b[49m\u001b[43memb\u001b[49m\u001b[43m)\u001b[49m\n",
      "\u001b[36mCell\u001b[39m\u001b[36m \u001b[39m\u001b[32mIn[32]\u001b[39m\u001b[32m, line 27\u001b[39m, in \u001b[36mWrapLM.forward\u001b[39m\u001b[34m(self, emb)\u001b[39m\n\u001b[32m     21\u001b[39m cache_position = torch.arange(\n\u001b[32m     22\u001b[39m     past_seen_tokens, past_seen_tokens + inputs_embeds.shape[\u001b[32m1\u001b[39m], device=inputs_embeds.device\n\u001b[32m     23\u001b[39m )\n\u001b[32m     25\u001b[39m position_ids = cache_position.unsqueeze(\u001b[32m0\u001b[39m)\n\u001b[32m---> \u001b[39m\u001b[32m27\u001b[39m causal_mask = \u001b[43mllm\u001b[49m._update_causal_mask(\n\u001b[32m     28\u001b[39m     attention_mask, inputs_embeds, cache_position, past_key_values, output_attentions\n\u001b[32m     29\u001b[39m )\n\u001b[32m     31\u001b[39m hidden_states = inputs_embeds\n\u001b[32m     33\u001b[39m position_embeddings = \u001b[38;5;28mself\u001b[39m.rotary_emb(hidden_states, position_ids)\n",
      "\u001b[31mNameError\u001b[39m: name 'llm' is not defined"
     ]
    }
   ],
   "source": [
    "emb = embed(torch.LongTensor([[1000]]))\n",
    "wm.forward(emb)"
   ]
  },
  {
   "cell_type": "code",
   "execution_count": null,
   "id": "d222ded8",
   "metadata": {},
   "outputs": [],
   "source": []
  }
 ],
 "metadata": {
  "kernelspec": {
   "display_name": ".venv",
   "language": "python",
   "name": "python3"
  },
  "language_info": {
   "codemirror_mode": {
    "name": "ipython",
    "version": 3
   },
   "file_extension": ".py",
   "mimetype": "text/x-python",
   "name": "python",
   "nbconvert_exporter": "python",
   "pygments_lexer": "ipython3",
   "version": "3.13.3"
  }
 },
 "nbformat": 4,
 "nbformat_minor": 5
}
